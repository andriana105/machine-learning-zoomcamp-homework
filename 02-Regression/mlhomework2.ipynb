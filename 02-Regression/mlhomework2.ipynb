{
 "cells": [
  {
   "cell_type": "code",
   "execution_count": 4,
   "id": "594b45ac-5cc2-423a-b19e-328d13d5bd15",
   "metadata": {},
   "outputs": [],
   "source": [
    "import pandas as pd\n",
    "import numpy as np\n",
    "from sklearn.linear_model import LinearRegression, Ridge\n",
    "from sklearn.metrics import mean_squared_error"
   ]
  },
  {
   "cell_type": "markdown",
   "id": "22b98c36-cd62-41fa-901c-e3c5e51fcba3",
   "metadata": {},
   "source": [
    "Read Data"
   ]
  },
  {
   "cell_type": "code",
   "execution_count": 2,
   "id": "dfcc46f1-8f63-4c28-be5f-92e57e71791e",
   "metadata": {},
   "outputs": [],
   "source": [
    "url = \"https://raw.githubusercontent.com/alexeygrigorev/datasets/master/car_fuel_efficiency.csv\""
   ]
  },
  {
   "cell_type": "code",
   "execution_count": 5,
   "id": "2e1272d4-ccf5-4e3d-bd2b-cfb0c3964f50",
   "metadata": {
    "scrolled": true
   },
   "outputs": [
    {
     "data": {
      "text/html": [
       "<div>\n",
       "<style scoped>\n",
       "    .dataframe tbody tr th:only-of-type {\n",
       "        vertical-align: middle;\n",
       "    }\n",
       "\n",
       "    .dataframe tbody tr th {\n",
       "        vertical-align: top;\n",
       "    }\n",
       "\n",
       "    .dataframe thead th {\n",
       "        text-align: right;\n",
       "    }\n",
       "</style>\n",
       "<table border=\"1\" class=\"dataframe\">\n",
       "  <thead>\n",
       "    <tr style=\"text-align: right;\">\n",
       "      <th></th>\n",
       "      <th>engine_displacement</th>\n",
       "      <th>num_cylinders</th>\n",
       "      <th>horsepower</th>\n",
       "      <th>vehicle_weight</th>\n",
       "      <th>acceleration</th>\n",
       "      <th>model_year</th>\n",
       "      <th>origin</th>\n",
       "      <th>fuel_type</th>\n",
       "      <th>drivetrain</th>\n",
       "      <th>num_doors</th>\n",
       "      <th>fuel_efficiency_mpg</th>\n",
       "    </tr>\n",
       "  </thead>\n",
       "  <tbody>\n",
       "    <tr>\n",
       "      <th>0</th>\n",
       "      <td>170</td>\n",
       "      <td>3.0</td>\n",
       "      <td>159.0</td>\n",
       "      <td>3413.433759</td>\n",
       "      <td>17.7</td>\n",
       "      <td>2003</td>\n",
       "      <td>Europe</td>\n",
       "      <td>Gasoline</td>\n",
       "      <td>All-wheel drive</td>\n",
       "      <td>0.0</td>\n",
       "      <td>13.231729</td>\n",
       "    </tr>\n",
       "    <tr>\n",
       "      <th>1</th>\n",
       "      <td>130</td>\n",
       "      <td>5.0</td>\n",
       "      <td>97.0</td>\n",
       "      <td>3149.664934</td>\n",
       "      <td>17.8</td>\n",
       "      <td>2007</td>\n",
       "      <td>USA</td>\n",
       "      <td>Gasoline</td>\n",
       "      <td>Front-wheel drive</td>\n",
       "      <td>0.0</td>\n",
       "      <td>13.688217</td>\n",
       "    </tr>\n",
       "    <tr>\n",
       "      <th>2</th>\n",
       "      <td>170</td>\n",
       "      <td>NaN</td>\n",
       "      <td>78.0</td>\n",
       "      <td>3079.038997</td>\n",
       "      <td>15.1</td>\n",
       "      <td>2018</td>\n",
       "      <td>Europe</td>\n",
       "      <td>Gasoline</td>\n",
       "      <td>Front-wheel drive</td>\n",
       "      <td>0.0</td>\n",
       "      <td>14.246341</td>\n",
       "    </tr>\n",
       "    <tr>\n",
       "      <th>3</th>\n",
       "      <td>220</td>\n",
       "      <td>4.0</td>\n",
       "      <td>NaN</td>\n",
       "      <td>2542.392402</td>\n",
       "      <td>20.2</td>\n",
       "      <td>2009</td>\n",
       "      <td>USA</td>\n",
       "      <td>Diesel</td>\n",
       "      <td>All-wheel drive</td>\n",
       "      <td>2.0</td>\n",
       "      <td>16.912736</td>\n",
       "    </tr>\n",
       "    <tr>\n",
       "      <th>4</th>\n",
       "      <td>210</td>\n",
       "      <td>1.0</td>\n",
       "      <td>140.0</td>\n",
       "      <td>3460.870990</td>\n",
       "      <td>14.4</td>\n",
       "      <td>2009</td>\n",
       "      <td>Europe</td>\n",
       "      <td>Gasoline</td>\n",
       "      <td>All-wheel drive</td>\n",
       "      <td>2.0</td>\n",
       "      <td>12.488369</td>\n",
       "    </tr>\n",
       "    <tr>\n",
       "      <th>...</th>\n",
       "      <td>...</td>\n",
       "      <td>...</td>\n",
       "      <td>...</td>\n",
       "      <td>...</td>\n",
       "      <td>...</td>\n",
       "      <td>...</td>\n",
       "      <td>...</td>\n",
       "      <td>...</td>\n",
       "      <td>...</td>\n",
       "      <td>...</td>\n",
       "      <td>...</td>\n",
       "    </tr>\n",
       "    <tr>\n",
       "      <th>9699</th>\n",
       "      <td>140</td>\n",
       "      <td>5.0</td>\n",
       "      <td>164.0</td>\n",
       "      <td>2981.107371</td>\n",
       "      <td>17.3</td>\n",
       "      <td>2013</td>\n",
       "      <td>Europe</td>\n",
       "      <td>Diesel</td>\n",
       "      <td>Front-wheel drive</td>\n",
       "      <td>NaN</td>\n",
       "      <td>15.101802</td>\n",
       "    </tr>\n",
       "    <tr>\n",
       "      <th>9700</th>\n",
       "      <td>180</td>\n",
       "      <td>NaN</td>\n",
       "      <td>154.0</td>\n",
       "      <td>2439.525729</td>\n",
       "      <td>15.0</td>\n",
       "      <td>2004</td>\n",
       "      <td>USA</td>\n",
       "      <td>Gasoline</td>\n",
       "      <td>All-wheel drive</td>\n",
       "      <td>0.0</td>\n",
       "      <td>17.962326</td>\n",
       "    </tr>\n",
       "    <tr>\n",
       "      <th>9701</th>\n",
       "      <td>220</td>\n",
       "      <td>2.0</td>\n",
       "      <td>138.0</td>\n",
       "      <td>2583.471318</td>\n",
       "      <td>15.1</td>\n",
       "      <td>2008</td>\n",
       "      <td>USA</td>\n",
       "      <td>Diesel</td>\n",
       "      <td>All-wheel drive</td>\n",
       "      <td>-1.0</td>\n",
       "      <td>17.186587</td>\n",
       "    </tr>\n",
       "    <tr>\n",
       "      <th>9702</th>\n",
       "      <td>230</td>\n",
       "      <td>4.0</td>\n",
       "      <td>177.0</td>\n",
       "      <td>2905.527390</td>\n",
       "      <td>19.4</td>\n",
       "      <td>2011</td>\n",
       "      <td>USA</td>\n",
       "      <td>Diesel</td>\n",
       "      <td>Front-wheel drive</td>\n",
       "      <td>1.0</td>\n",
       "      <td>15.331551</td>\n",
       "    </tr>\n",
       "    <tr>\n",
       "      <th>9703</th>\n",
       "      <td>270</td>\n",
       "      <td>3.0</td>\n",
       "      <td>140.0</td>\n",
       "      <td>2908.043477</td>\n",
       "      <td>14.7</td>\n",
       "      <td>2005</td>\n",
       "      <td>Asia</td>\n",
       "      <td>Diesel</td>\n",
       "      <td>All-wheel drive</td>\n",
       "      <td>-1.0</td>\n",
       "      <td>14.884467</td>\n",
       "    </tr>\n",
       "  </tbody>\n",
       "</table>\n",
       "<p>9704 rows × 11 columns</p>\n",
       "</div>"
      ],
      "text/plain": [
       "      engine_displacement  num_cylinders  horsepower  vehicle_weight  \\\n",
       "0                     170            3.0       159.0     3413.433759   \n",
       "1                     130            5.0        97.0     3149.664934   \n",
       "2                     170            NaN        78.0     3079.038997   \n",
       "3                     220            4.0         NaN     2542.392402   \n",
       "4                     210            1.0       140.0     3460.870990   \n",
       "...                   ...            ...         ...             ...   \n",
       "9699                  140            5.0       164.0     2981.107371   \n",
       "9700                  180            NaN       154.0     2439.525729   \n",
       "9701                  220            2.0       138.0     2583.471318   \n",
       "9702                  230            4.0       177.0     2905.527390   \n",
       "9703                  270            3.0       140.0     2908.043477   \n",
       "\n",
       "      acceleration  model_year  origin fuel_type         drivetrain  \\\n",
       "0             17.7        2003  Europe  Gasoline    All-wheel drive   \n",
       "1             17.8        2007     USA  Gasoline  Front-wheel drive   \n",
       "2             15.1        2018  Europe  Gasoline  Front-wheel drive   \n",
       "3             20.2        2009     USA    Diesel    All-wheel drive   \n",
       "4             14.4        2009  Europe  Gasoline    All-wheel drive   \n",
       "...            ...         ...     ...       ...                ...   \n",
       "9699          17.3        2013  Europe    Diesel  Front-wheel drive   \n",
       "9700          15.0        2004     USA  Gasoline    All-wheel drive   \n",
       "9701          15.1        2008     USA    Diesel    All-wheel drive   \n",
       "9702          19.4        2011     USA    Diesel  Front-wheel drive   \n",
       "9703          14.7        2005    Asia    Diesel    All-wheel drive   \n",
       "\n",
       "      num_doors  fuel_efficiency_mpg  \n",
       "0           0.0            13.231729  \n",
       "1           0.0            13.688217  \n",
       "2           0.0            14.246341  \n",
       "3           2.0            16.912736  \n",
       "4           2.0            12.488369  \n",
       "...         ...                  ...  \n",
       "9699        NaN            15.101802  \n",
       "9700        0.0            17.962326  \n",
       "9701       -1.0            17.186587  \n",
       "9702        1.0            15.331551  \n",
       "9703       -1.0            14.884467  \n",
       "\n",
       "[9704 rows x 11 columns]"
      ]
     },
     "execution_count": 5,
     "metadata": {},
     "output_type": "execute_result"
    }
   ],
   "source": [
    "df = pd.read_csv(url)\n",
    "df"
   ]
  },
  {
   "cell_type": "code",
   "execution_count": 6,
   "id": "db94504c-3278-4dd5-a259-1aa54e7716dd",
   "metadata": {},
   "outputs": [],
   "source": [
    "columns = ['engine_displacement','horsepower','vehicle_weight','model_year','fuel_efficiency_mpg']\n",
    "df = df[columns].copy()\n",
    "\n",
    "def rmse(y_true, y_pred):\n",
    "    from sklearn.metrics import mean_squared_error\n",
    "    return np.sqrt(mean_squared_error(y_true, y_pred))"
   ]
  },
  {
   "cell_type": "markdown",
   "id": "f0cc4cd3-1bc9-448d-bbfb-84932bf626e7",
   "metadata": {},
   "source": [
    "#### Q1. There's one column with missing values. What is it?"
   ]
  },
  {
   "cell_type": "code",
   "execution_count": 12,
   "id": "c67a0552-1954-4d63-beea-575725b0930b",
   "metadata": {},
   "outputs": [
    {
     "name": "stdout",
     "output_type": "stream",
     "text": [
      "Column with missing values: horsepower\n"
     ]
    }
   ],
   "source": [
    "missing_columns = df.isnull().any()\n",
    "col_nm = missing_columns[missing_columns > 0].idxmax() if (missing_columns > 0).any() else None\n",
    "\n",
    "print(f\"Column with missing values: {col_nm}\")"
   ]
  },
  {
   "cell_type": "markdown",
   "id": "96dfae2e-ece9-4e30-b27f-bac79b4585d6",
   "metadata": {},
   "source": [
    "#### Q2. What's the median (50% percentile) for variable 'horsepower'?"
   ]
  },
  {
   "cell_type": "code",
   "execution_count": 13,
   "id": "da3e8a0f-2c77-4dad-b0b9-87b200a68a59",
   "metadata": {},
   "outputs": [
    {
     "name": "stdout",
     "output_type": "stream",
     "text": [
      "The median of 'horsepower' : 149.0\n"
     ]
    }
   ],
   "source": [
    "print(f\"The median of 'horsepower' :\", df['horsepower'].median())"
   ]
  },
  {
   "cell_type": "code",
   "execution_count": 14,
   "id": "0717b9bd-e10b-46a7-94ba-b3a534804457",
   "metadata": {},
   "outputs": [],
   "source": [
    "def split_df(base_df, seed=42):\n",
    "    d = base_df.sample(frac=1.0, random_state=seed).reset_index(drop=True)\n",
    "    n = len(d); n_train = int(0.6*n); n_val = int(0.2*n)\n",
    "    return d.iloc[:n_train].copy(), d.iloc[n_train:n_train+n_val].copy(), d.iloc[n_train+n_val:].copy()\n",
    "\n",
    "features = ['engine_displacement','horsepower','vehicle_weight','model_year']\n",
    "target = 'fuel_efficiency_mpg'"
   ]
  },
  {
   "cell_type": "markdown",
   "id": "ee17b5ed-5304-48e5-885b-84e749159f13",
   "metadata": {},
   "source": [
    "#### Q3."
   ]
  },
  {
   "cell_type": "code",
   "execution_count": 16,
   "id": "13f7f769-93e0-4f45-89f7-ee58ea0efade",
   "metadata": {},
   "outputs": [],
   "source": [
    "dtr, dvl, dte = split_df(df, seed=42)\n",
    "Xtr, Xvl = dtr[features].copy(), dvl[features].copy()\n",
    "ytr, yvl = dtr[target].values, dvl[target].values"
   ]
  },
  {
   "cell_type": "code",
   "execution_count": 19,
   "id": "5eb8b078-727a-4079-99b0-a1ca66322f19",
   "metadata": {},
   "outputs": [
    {
     "name": "stdout",
     "output_type": "stream",
     "text": [
      "Q3 RMSE → fill-0: 0.52 | fill-mean: 0.46 | Answer: With mean\n"
     ]
    }
   ],
   "source": [
    "# fill 0\n",
    "Xtr0, Xvl0 = Xtr.copy().fillna(0), Xvl.copy().fillna(0)\n",
    "m0 = LinearRegression().fit(Xtr0, ytr)\n",
    "rmse0 = round(rmse(yvl, m0.predict(Xvl0)), 2)\n",
    "\n",
    "# fill mean (train only)\n",
    "Xtrm, Xvlm = Xtr.copy(), Xvl.copy()\n",
    "for c in Xtrm.columns:\n",
    "    if Xtrm[c].isna().any():\n",
    "        mval = Xtrm[c].mean()\n",
    "        Xtrm[c] = Xtrm[c].fillna(mval)\n",
    "        Xvlm[c] = Xvlm[c].fillna(mval)\n",
    "mm = LinearRegression().fit(Xtrm, ytr)\n",
    "rmsem = round(rmse(yvl, mm.predict(Xvlm)), 2)\n",
    "\n",
    "better = \"With 0\" if rmse0 < rmsem else (\"With mean\" if rmsem < rmse0 else \"Both are equally good\")\n",
    "print(f\"Q3 RMSE → fill-0: {rmse0} | fill-mean: {rmsem} | Answer: {better}\")"
   ]
  },
  {
   "cell_type": "markdown",
   "id": "4823fd08-a8ed-46d4-8345-ff4dc6910845",
   "metadata": {},
   "source": [
    "#### Q4."
   ]
  },
  {
   "cell_type": "code",
   "execution_count": 20,
   "id": "151ab1bf-6bdc-404e-bc14-c38c1b7731c2",
   "metadata": {},
   "outputs": [
    {
     "name": "stdout",
     "output_type": "stream",
     "text": [
      "r=0      RMSE=0.52\n",
      "r=0.01   RMSE=0.52\n",
      "r=0.1    RMSE=0.52\n",
      "r=1      RMSE=0.52\n",
      "r=5      RMSE=0.52\n",
      "r=10     RMSE=0.52\n",
      "r=100    RMSE=0.52\n",
      "Q4 best r: 0 with RMSE: 0.52\n"
     ]
    }
   ],
   "source": [
    "r_list = [0, 0.01, 0.1, 1, 5, 10, 100]\n",
    "Xtr0, Xvl0 = dtr[features].fillna(0), dvl[features].fillna(0)\n",
    "ytr, yvl = dtr[target].values, dvl[target].values\n",
    "\n",
    "scores = []\n",
    "for r in r_list:\n",
    "    model = LinearRegression() if r==0 else Ridge(alpha=r, random_state=42)\n",
    "    model.fit(Xtr0, ytr)\n",
    "    s = round(rmse(yvl, model.predict(Xvl0)), 2)\n",
    "    scores.append(s)\n",
    "    print(f\"r={r:<6} RMSE={s}\")\n",
    "best_rmse = min(scores)\n",
    "best_r = r_list[scores.index(best_rmse)]\n",
    "print(\"Q4 best r:\", best_r, \"with RMSE:\", best_rmse)"
   ]
  },
  {
   "cell_type": "markdown",
   "id": "b8e5c09d-0576-401f-b601-38c2cd258367",
   "metadata": {},
   "source": [
    "#### Q5."
   ]
  },
  {
   "cell_type": "code",
   "execution_count": 21,
   "id": "1800b9d3-3fa8-4134-b04a-b9ab50e7f162",
   "metadata": {},
   "outputs": [
    {
     "name": "stdout",
     "output_type": "stream",
     "text": [
      "Q5 std across seeds 0–9: 0.007\n"
     ]
    }
   ],
   "source": [
    "# Q5: seeds 0–9, split 60/20/20, fill 0, no regularization, std of val RMSE\n",
    "vals = []\n",
    "for s in range(10):\n",
    "    dtr, dvl, _ = split_df(df, seed=s)\n",
    "    Xtr, Xvl = dtr[features].fillna(0), dvl[features].fillna(0)\n",
    "    ytr, yvl = dtr[target].values, dvl[target].values\n",
    "    m = LinearRegression().fit(Xtr, ytr)\n",
    "    vals.append(rmse(yvl, m.predict(Xvl)))\n",
    "std = round(np.std(vals), 3)\n",
    "print(\"Q5 std across seeds 0–9:\", std)"
   ]
  },
  {
   "cell_type": "markdown",
   "id": "5a9a10af-42cf-49c2-a27e-ba37d7946b38",
   "metadata": {},
   "source": [
    "#### Q6."
   ]
  },
  {
   "cell_type": "code",
   "execution_count": 25,
   "id": "2741f0aa-d997-438b-b42a-41ad2f5c35b1",
   "metadata": {},
   "outputs": [
    {
     "name": "stdout",
     "output_type": "stream",
     "text": [
      "Q6 test RMSE: 0.5154915324831211  rounded: 0.515\n"
     ]
    }
   ],
   "source": [
    "# Q6: seed=9, train on train+val, fill 0, r=0.001, test RMSE\n",
    "dtr, dvl, dte = split_df(df, seed=9)\n",
    "Xtr_full = pd.concat([dtr[features], dvl[features]]).fillna(0)\n",
    "ytr_full = np.concatenate([dtr[target].values, dvl[target].values])\n",
    "Xte, yte = dte[features].fillna(0), dte[target].values\n",
    "ridge = Ridge(alpha=0.001, random_state=9).fit(Xtr_full, ytr_full)\n",
    "rmse_test = rmse(yte, ridge.predict(Xte))\n",
    "print(\"Q6 test RMSE:\", rmse_test, \" rounded:\", round(rmse_test, 3))"
   ]
  }
 ],
 "metadata": {
  "kernelspec": {
   "display_name": "Python 3 (ipykernel)",
   "language": "python",
   "name": "python3"
  },
  "language_info": {
   "codemirror_mode": {
    "name": "ipython",
    "version": 3
   },
   "file_extension": ".py",
   "mimetype": "text/x-python",
   "name": "python",
   "nbconvert_exporter": "python",
   "pygments_lexer": "ipython3",
   "version": "3.12.1"
  }
 },
 "nbformat": 4,
 "nbformat_minor": 5
}
