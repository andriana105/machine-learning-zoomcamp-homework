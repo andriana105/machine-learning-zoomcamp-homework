{
 "cells": [
  {
   "cell_type": "code",
   "execution_count": 1,
   "id": "552f8526-8924-428d-8f0a-ce089ffbc024",
   "metadata": {},
   "outputs": [],
   "source": [
    "import pandas as pd\n",
    "import numpy as np\n",
    "import matplotlib.pyplot as plt\n",
    "import seaborn as sns\n"
   ]
  },
  {
   "cell_type": "code",
   "execution_count": 2,
   "id": "ca519043-3a44-4dbb-b401-eb26b72bbdb5",
   "metadata": {},
   "outputs": [],
   "source": [
    "data = \"https://raw.githubusercontent.com/alexeygrigorev/datasets/master/course_lead_scoring.csv\""
   ]
  },
  {
   "cell_type": "code",
   "execution_count": 3,
   "id": "6adc18b1-2ccf-40ca-8b70-3406040037ab",
   "metadata": {},
   "outputs": [
    {
     "data": {
      "text/html": [
       "<div>\n",
       "<style scoped>\n",
       "    .dataframe tbody tr th:only-of-type {\n",
       "        vertical-align: middle;\n",
       "    }\n",
       "\n",
       "    .dataframe tbody tr th {\n",
       "        vertical-align: top;\n",
       "    }\n",
       "\n",
       "    .dataframe thead th {\n",
       "        text-align: right;\n",
       "    }\n",
       "</style>\n",
       "<table border=\"1\" class=\"dataframe\">\n",
       "  <thead>\n",
       "    <tr style=\"text-align: right;\">\n",
       "      <th></th>\n",
       "      <th>lead_source</th>\n",
       "      <th>industry</th>\n",
       "      <th>number_of_courses_viewed</th>\n",
       "      <th>annual_income</th>\n",
       "      <th>employment_status</th>\n",
       "      <th>location</th>\n",
       "      <th>interaction_count</th>\n",
       "      <th>lead_score</th>\n",
       "      <th>converted</th>\n",
       "    </tr>\n",
       "  </thead>\n",
       "  <tbody>\n",
       "    <tr>\n",
       "      <th>0</th>\n",
       "      <td>paid_ads</td>\n",
       "      <td>NaN</td>\n",
       "      <td>1</td>\n",
       "      <td>79450.0</td>\n",
       "      <td>unemployed</td>\n",
       "      <td>south_america</td>\n",
       "      <td>4</td>\n",
       "      <td>0.94</td>\n",
       "      <td>1</td>\n",
       "    </tr>\n",
       "    <tr>\n",
       "      <th>1</th>\n",
       "      <td>social_media</td>\n",
       "      <td>retail</td>\n",
       "      <td>1</td>\n",
       "      <td>46992.0</td>\n",
       "      <td>employed</td>\n",
       "      <td>south_america</td>\n",
       "      <td>1</td>\n",
       "      <td>0.80</td>\n",
       "      <td>0</td>\n",
       "    </tr>\n",
       "    <tr>\n",
       "      <th>2</th>\n",
       "      <td>events</td>\n",
       "      <td>healthcare</td>\n",
       "      <td>5</td>\n",
       "      <td>78796.0</td>\n",
       "      <td>unemployed</td>\n",
       "      <td>australia</td>\n",
       "      <td>3</td>\n",
       "      <td>0.69</td>\n",
       "      <td>1</td>\n",
       "    </tr>\n",
       "    <tr>\n",
       "      <th>3</th>\n",
       "      <td>paid_ads</td>\n",
       "      <td>retail</td>\n",
       "      <td>2</td>\n",
       "      <td>83843.0</td>\n",
       "      <td>NaN</td>\n",
       "      <td>australia</td>\n",
       "      <td>1</td>\n",
       "      <td>0.87</td>\n",
       "      <td>0</td>\n",
       "    </tr>\n",
       "    <tr>\n",
       "      <th>4</th>\n",
       "      <td>referral</td>\n",
       "      <td>education</td>\n",
       "      <td>3</td>\n",
       "      <td>85012.0</td>\n",
       "      <td>self_employed</td>\n",
       "      <td>europe</td>\n",
       "      <td>3</td>\n",
       "      <td>0.62</td>\n",
       "      <td>1</td>\n",
       "    </tr>\n",
       "    <tr>\n",
       "      <th>...</th>\n",
       "      <td>...</td>\n",
       "      <td>...</td>\n",
       "      <td>...</td>\n",
       "      <td>...</td>\n",
       "      <td>...</td>\n",
       "      <td>...</td>\n",
       "      <td>...</td>\n",
       "      <td>...</td>\n",
       "      <td>...</td>\n",
       "    </tr>\n",
       "    <tr>\n",
       "      <th>1457</th>\n",
       "      <td>referral</td>\n",
       "      <td>manufacturing</td>\n",
       "      <td>1</td>\n",
       "      <td>NaN</td>\n",
       "      <td>self_employed</td>\n",
       "      <td>north_america</td>\n",
       "      <td>4</td>\n",
       "      <td>0.53</td>\n",
       "      <td>1</td>\n",
       "    </tr>\n",
       "    <tr>\n",
       "      <th>1458</th>\n",
       "      <td>referral</td>\n",
       "      <td>technology</td>\n",
       "      <td>3</td>\n",
       "      <td>65259.0</td>\n",
       "      <td>student</td>\n",
       "      <td>europe</td>\n",
       "      <td>2</td>\n",
       "      <td>0.24</td>\n",
       "      <td>1</td>\n",
       "    </tr>\n",
       "    <tr>\n",
       "      <th>1459</th>\n",
       "      <td>paid_ads</td>\n",
       "      <td>technology</td>\n",
       "      <td>1</td>\n",
       "      <td>45688.0</td>\n",
       "      <td>student</td>\n",
       "      <td>north_america</td>\n",
       "      <td>3</td>\n",
       "      <td>0.02</td>\n",
       "      <td>1</td>\n",
       "    </tr>\n",
       "    <tr>\n",
       "      <th>1460</th>\n",
       "      <td>referral</td>\n",
       "      <td>NaN</td>\n",
       "      <td>5</td>\n",
       "      <td>71016.0</td>\n",
       "      <td>self_employed</td>\n",
       "      <td>north_america</td>\n",
       "      <td>0</td>\n",
       "      <td>0.25</td>\n",
       "      <td>1</td>\n",
       "    </tr>\n",
       "    <tr>\n",
       "      <th>1461</th>\n",
       "      <td>organic_search</td>\n",
       "      <td>finance</td>\n",
       "      <td>3</td>\n",
       "      <td>92855.0</td>\n",
       "      <td>student</td>\n",
       "      <td>north_america</td>\n",
       "      <td>3</td>\n",
       "      <td>0.41</td>\n",
       "      <td>1</td>\n",
       "    </tr>\n",
       "  </tbody>\n",
       "</table>\n",
       "<p>1462 rows × 9 columns</p>\n",
       "</div>"
      ],
      "text/plain": [
       "         lead_source       industry  number_of_courses_viewed  annual_income  \\\n",
       "0           paid_ads            NaN                         1        79450.0   \n",
       "1       social_media         retail                         1        46992.0   \n",
       "2             events     healthcare                         5        78796.0   \n",
       "3           paid_ads         retail                         2        83843.0   \n",
       "4           referral      education                         3        85012.0   \n",
       "...              ...            ...                       ...            ...   \n",
       "1457        referral  manufacturing                         1            NaN   \n",
       "1458        referral     technology                         3        65259.0   \n",
       "1459        paid_ads     technology                         1        45688.0   \n",
       "1460        referral            NaN                         5        71016.0   \n",
       "1461  organic_search        finance                         3        92855.0   \n",
       "\n",
       "     employment_status       location  interaction_count  lead_score  \\\n",
       "0           unemployed  south_america                  4        0.94   \n",
       "1             employed  south_america                  1        0.80   \n",
       "2           unemployed      australia                  3        0.69   \n",
       "3                  NaN      australia                  1        0.87   \n",
       "4        self_employed         europe                  3        0.62   \n",
       "...                ...            ...                ...         ...   \n",
       "1457     self_employed  north_america                  4        0.53   \n",
       "1458           student         europe                  2        0.24   \n",
       "1459           student  north_america                  3        0.02   \n",
       "1460     self_employed  north_america                  0        0.25   \n",
       "1461           student  north_america                  3        0.41   \n",
       "\n",
       "      converted  \n",
       "0             1  \n",
       "1             0  \n",
       "2             1  \n",
       "3             0  \n",
       "4             1  \n",
       "...         ...  \n",
       "1457          1  \n",
       "1458          1  \n",
       "1459          1  \n",
       "1460          1  \n",
       "1461          1  \n",
       "\n",
       "[1462 rows x 9 columns]"
      ]
     },
     "execution_count": 3,
     "metadata": {},
     "output_type": "execute_result"
    }
   ],
   "source": [
    "df = pd.read_csv(data)\n",
    "df"
   ]
  },
  {
   "cell_type": "code",
   "execution_count": 4,
   "id": "5f65c7e2-fe7a-468f-b87c-084270a26f5b",
   "metadata": {},
   "outputs": [
    {
     "data": {
      "text/plain": [
       "lead_source                 128\n",
       "industry                    134\n",
       "number_of_courses_viewed      0\n",
       "annual_income               181\n",
       "employment_status           100\n",
       "location                     63\n",
       "interaction_count             0\n",
       "lead_score                    0\n",
       "converted                     0\n",
       "dtype: int64"
      ]
     },
     "execution_count": 4,
     "metadata": {},
     "output_type": "execute_result"
    }
   ],
   "source": [
    "df.isnull().sum()"
   ]
  },
  {
   "cell_type": "code",
   "execution_count": 5,
   "id": "da72667d-30ce-4abe-b685-86afba44402d",
   "metadata": {},
   "outputs": [
    {
     "data": {
      "text/plain": [
       "lead_source                  object\n",
       "industry                     object\n",
       "number_of_courses_viewed      int64\n",
       "annual_income               float64\n",
       "employment_status            object\n",
       "location                     object\n",
       "interaction_count             int64\n",
       "lead_score                  float64\n",
       "converted                     int64\n",
       "dtype: object"
      ]
     },
     "execution_count": 5,
     "metadata": {},
     "output_type": "execute_result"
    }
   ],
   "source": [
    "df.dtypes"
   ]
  },
  {
   "cell_type": "code",
   "execution_count": 6,
   "id": "d4ec50f6-76de-47d6-98c9-792e692d2100",
   "metadata": {},
   "outputs": [],
   "source": [
    "df_num = df.select_dtypes(include=['object']).columns.tolist()"
   ]
  },
  {
   "cell_type": "code",
   "execution_count": 7,
   "id": "af2ddc57-6f24-4f8f-9ee9-5a716a9ebc70",
   "metadata": {},
   "outputs": [
    {
     "data": {
      "text/plain": [
       "['number_of_courses_viewed',\n",
       " 'annual_income',\n",
       " 'interaction_count',\n",
       " 'lead_score',\n",
       " 'converted']"
      ]
     },
     "execution_count": 7,
     "metadata": {},
     "output_type": "execute_result"
    }
   ],
   "source": [
    "df_cat = df.select_dtypes(exclude=['object']).columns.tolist()\n",
    "df_cat"
   ]
  },
  {
   "cell_type": "code",
   "execution_count": 8,
   "id": "44deb00d-9dcc-433e-a0ea-bbdb627bd87e",
   "metadata": {},
   "outputs": [],
   "source": [
    "# Handling missing values\n",
    "\n",
    "# for col in df.columns:\n",
    "#     if df[col].dtype =='object' : #categorical features\n",
    "#         df[col].fillna('NA', inplace=True)\n",
    "#     else: # numerical features\n",
    "#         df[col].fillna(0.0, inplace=True)"
   ]
  },
  {
   "cell_type": "markdown",
   "id": "a74b686d-6522-4d62-8a6f-8f8c8e579895",
   "metadata": {},
   "source": [
    "#### Handling Missing Values"
   ]
  },
  {
   "cell_type": "code",
   "execution_count": 9,
   "id": "286da74a-2982-4287-b57e-f798e06ff168",
   "metadata": {},
   "outputs": [],
   "source": [
    "categorical_cols = df.select_dtypes(include=['object']).columns\n",
    "df[categorical_cols] = df[categorical_cols].fillna('NA')"
   ]
  },
  {
   "cell_type": "code",
   "execution_count": 10,
   "id": "c0862b19-9ef5-42bf-b26a-032c0a49ca61",
   "metadata": {},
   "outputs": [],
   "source": [
    "numerical_cols = df.select_dtypes(include=['number']).columns\n",
    "df[numerical_cols] = df[numerical_cols].fillna(0.0)"
   ]
  },
  {
   "cell_type": "code",
   "execution_count": 11,
   "id": "f0d2fb5e-624c-400c-af18-feb74f93f46c",
   "metadata": {},
   "outputs": [
    {
     "name": "stdout",
     "output_type": "stream",
     "text": [
      "lead_source                 0\n",
      "industry                    0\n",
      "number_of_courses_viewed    0\n",
      "annual_income               0\n",
      "employment_status           0\n",
      "location                    0\n",
      "interaction_count           0\n",
      "lead_score                  0\n",
      "converted                   0\n",
      "dtype: int64\n"
     ]
    }
   ],
   "source": [
    "print(df.isnull().sum())"
   ]
  },
  {
   "cell_type": "markdown",
   "id": "8de902d4-bdba-4729-b4fb-73ad8c5ed08d",
   "metadata": {},
   "source": [
    "#### Question 1\n",
    "What is the most frequent observation (mode) for the column industry?\n",
    "\n"
   ]
  },
  {
   "cell_type": "code",
   "execution_count": 12,
   "id": "129c4f6f-c2a5-44ba-baa7-6063452e4459",
   "metadata": {},
   "outputs": [
    {
     "name": "stdout",
     "output_type": "stream",
     "text": [
      "The most frequent observation (mode) for the column industry : 0    retail\n",
      "Name: industry, dtype: object\n"
     ]
    }
   ],
   "source": [
    "print(f\"The most frequent observation (mode) for the column industry :\", df['industry'].mode())"
   ]
  },
  {
   "cell_type": "markdown",
   "id": "13e50257-cb13-4ab4-baeb-3eb94ea3fe82",
   "metadata": {},
   "source": [
    "#### Question 2\n",
    "What are the two features that have the biggest correlation?"
   ]
  },
  {
   "cell_type": "code",
   "execution_count": 13,
   "id": "5a8542b0-2b28-4544-9c78-b68186e2aa6c",
   "metadata": {},
   "outputs": [
    {
     "data": {
      "text/html": [
       "<div>\n",
       "<style scoped>\n",
       "    .dataframe tbody tr th:only-of-type {\n",
       "        vertical-align: middle;\n",
       "    }\n",
       "\n",
       "    .dataframe tbody tr th {\n",
       "        vertical-align: top;\n",
       "    }\n",
       "\n",
       "    .dataframe thead th {\n",
       "        text-align: right;\n",
       "    }\n",
       "</style>\n",
       "<table border=\"1\" class=\"dataframe\">\n",
       "  <thead>\n",
       "    <tr style=\"text-align: right;\">\n",
       "      <th></th>\n",
       "      <th>number_of_courses_viewed</th>\n",
       "      <th>annual_income</th>\n",
       "      <th>interaction_count</th>\n",
       "      <th>lead_score</th>\n",
       "      <th>converted</th>\n",
       "    </tr>\n",
       "  </thead>\n",
       "  <tbody>\n",
       "    <tr>\n",
       "      <th>count</th>\n",
       "      <td>1462.000000</td>\n",
       "      <td>1462.000000</td>\n",
       "      <td>1462.000000</td>\n",
       "      <td>1462.000000</td>\n",
       "      <td>1462.000000</td>\n",
       "    </tr>\n",
       "    <tr>\n",
       "      <th>mean</th>\n",
       "      <td>2.031464</td>\n",
       "      <td>52472.172367</td>\n",
       "      <td>2.976744</td>\n",
       "      <td>0.506108</td>\n",
       "      <td>0.619015</td>\n",
       "    </tr>\n",
       "    <tr>\n",
       "      <th>std</th>\n",
       "      <td>1.449717</td>\n",
       "      <td>24254.347030</td>\n",
       "      <td>1.681564</td>\n",
       "      <td>0.288465</td>\n",
       "      <td>0.485795</td>\n",
       "    </tr>\n",
       "    <tr>\n",
       "      <th>min</th>\n",
       "      <td>0.000000</td>\n",
       "      <td>0.000000</td>\n",
       "      <td>0.000000</td>\n",
       "      <td>0.000000</td>\n",
       "      <td>0.000000</td>\n",
       "    </tr>\n",
       "    <tr>\n",
       "      <th>25%</th>\n",
       "      <td>1.000000</td>\n",
       "      <td>44097.250000</td>\n",
       "      <td>2.000000</td>\n",
       "      <td>0.262500</td>\n",
       "      <td>0.000000</td>\n",
       "    </tr>\n",
       "    <tr>\n",
       "      <th>50%</th>\n",
       "      <td>2.000000</td>\n",
       "      <td>57449.500000</td>\n",
       "      <td>3.000000</td>\n",
       "      <td>0.510000</td>\n",
       "      <td>1.000000</td>\n",
       "    </tr>\n",
       "    <tr>\n",
       "      <th>75%</th>\n",
       "      <td>3.000000</td>\n",
       "      <td>68241.000000</td>\n",
       "      <td>4.000000</td>\n",
       "      <td>0.750000</td>\n",
       "      <td>1.000000</td>\n",
       "    </tr>\n",
       "    <tr>\n",
       "      <th>max</th>\n",
       "      <td>9.000000</td>\n",
       "      <td>109899.000000</td>\n",
       "      <td>11.000000</td>\n",
       "      <td>1.000000</td>\n",
       "      <td>1.000000</td>\n",
       "    </tr>\n",
       "  </tbody>\n",
       "</table>\n",
       "</div>"
      ],
      "text/plain": [
       "       number_of_courses_viewed  annual_income  interaction_count  \\\n",
       "count               1462.000000    1462.000000        1462.000000   \n",
       "mean                   2.031464   52472.172367           2.976744   \n",
       "std                    1.449717   24254.347030           1.681564   \n",
       "min                    0.000000       0.000000           0.000000   \n",
       "25%                    1.000000   44097.250000           2.000000   \n",
       "50%                    2.000000   57449.500000           3.000000   \n",
       "75%                    3.000000   68241.000000           4.000000   \n",
       "max                    9.000000  109899.000000          11.000000   \n",
       "\n",
       "        lead_score    converted  \n",
       "count  1462.000000  1462.000000  \n",
       "mean      0.506108     0.619015  \n",
       "std       0.288465     0.485795  \n",
       "min       0.000000     0.000000  \n",
       "25%       0.262500     0.000000  \n",
       "50%       0.510000     1.000000  \n",
       "75%       0.750000     1.000000  \n",
       "max       1.000000     1.000000  "
      ]
     },
     "execution_count": 13,
     "metadata": {},
     "output_type": "execute_result"
    }
   ],
   "source": [
    "num_df = df.select_dtypes(include=['int64', 'float64'])\n",
    "num_df.describe()"
   ]
  },
  {
   "cell_type": "code",
   "execution_count": 14,
   "id": "8fae1f2d-3008-46a5-a69b-f894000edea8",
   "metadata": {},
   "outputs": [
    {
     "name": "stdout",
     "output_type": "stream",
     "text": [
      "                          number_of_courses_viewed  annual_income  \\\n",
      "number_of_courses_viewed                  1.000000       0.009770   \n",
      "annual_income                             0.009770       1.000000   \n",
      "interaction_count                        -0.023565       0.027036   \n",
      "lead_score                               -0.004879       0.015610   \n",
      "converted                                 0.435914       0.053131   \n",
      "\n",
      "                          interaction_count  lead_score  converted  \n",
      "number_of_courses_viewed          -0.023565   -0.004879   0.435914  \n",
      "annual_income                      0.027036    0.015610   0.053131  \n",
      "interaction_count                  1.000000    0.009888   0.374573  \n",
      "lead_score                         0.009888    1.000000   0.193673  \n",
      "converted                          0.374573    0.193673   1.000000  \n"
     ]
    }
   ],
   "source": [
    "corr = num_df.corr()\n",
    "print(corr)"
   ]
  },
  {
   "cell_type": "code",
   "execution_count": 15,
   "id": "c6a3d7c7-e773-4f2b-b90f-6b8d5892d207",
   "metadata": {},
   "outputs": [
    {
     "data": {
      "image/png": "[encoded data removed]",
      "text/plain": [
       "<Figure size 1000x800 with 2 Axes>"
      ]
     },
     "metadata": {},
     "output_type": "display_data"
    }
   ],
   "source": [
    "# Heatmap\n",
    "plt.figure(figsize=(10, 8))\n",
    "sns.heatmap(corr, annot=True, fmt=\".2f\", cmap=\"coolwarm\", vmin=-1, vmax=1)\n",
    "plt.title(\"Correlation Matrix (Numerical Features)\")\n",
    "plt.show()"
   ]
  },
  {
   "cell_type": "code",
   "execution_count": 16,
   "id": "626c5b73-fd4f-435a-8f0a-a584c98f65db",
   "metadata": {},
   "outputs": [
    {
     "name": "stdout",
     "output_type": "stream",
     "text": [
      "The two features with the highest correlation are: ('number_of_courses_viewed', 'converted')\n",
      "The highest correlation value is: 0.43591365802117926\n"
     ]
    }
   ],
   "source": [
    "corr_pairs = corr.abs().unstack()\n",
    "corr_pairs = corr_pairs[corr_pairs < 1.0]  # remove correlation of a variable with itself\n",
    "top_pair = corr_pairs.sort_values(ascending=False).idxmax()\n",
    "top_value = corr_pairs.max()\n",
    "\n",
    "print(\"The two features with the highest correlation are:\", top_pair)\n",
    "print(\"The highest correlation value is:\", top_value)"
   ]
  },
  {
   "cell_type": "code",
   "execution_count": 17,
   "id": "75d0b70c-5d35-460d-955e-5a1ad8023c2e",
   "metadata": {},
   "outputs": [],
   "source": [
    "from sklearn.feature_extraction import DictVectorizer\n",
    "from sklearn.linear_model import LogisticRegression\n",
    "from sklearn.model_selection import train_test_split\n",
    "from sklearn.metrics import mutual_info_score, accuracy_score\n",
    "from sklearn.preprocessing import OrdinalEncoder\n",
    "from sklearn.feature_selection import mutual_info_classif"
   ]
  },
  {
   "cell_type": "code",
   "execution_count": 18,
   "id": "835e46e2-1865-4441-8790-b52c224637bf",
   "metadata": {},
   "outputs": [
    {
     "name": "stdout",
     "output_type": "stream",
     "text": [
      "Train set size: 877\n",
      "Validation set size: 292\n",
      "Test set size: 293\n"
     ]
    }
   ],
   "source": [
    "# Define the target column and remove it from the features\n",
    "target = 'converted'\n",
    "y = df[target]\n",
    "X = df.drop(columns=[target])\n",
    "\n",
    "# First split: Train (60%) and Temp (40%)\n",
    "X_train, X_temp, y_train, y_temp = train_test_split(\n",
    "    X, y, test_size=0.4, random_state=42\n",
    ")\n",
    "\n",
    "# Second split: Temp → Validation (50%) and Test (50%) of the remaining 40%\n",
    "X_val, X_test, y_val, y_test = train_test_split(\n",
    "    X_temp, y_temp, test_size=0.5, random_state=42\n",
    ")\n",
    "\n",
    "# Print sizes to confirm the splits\n",
    "print(\"Train set size:\", X_train.shape[0])\n",
    "print(\"Validation set size:\", X_val.shape[0])\n",
    "print(\"Test set size:\", X_test.shape[0])"
   ]
  },
  {
   "cell_type": "markdown",
   "id": "bd0f0bf5-120d-4df6-86da-ba84a6e2d68a",
   "metadata": {},
   "source": [
    "#### Question 3 Biggesr MI"
   ]
  },
  {
   "cell_type": "code",
   "execution_count": 19,
   "id": "644497d1-ff9c-49f9-b333-c3f1094d5a74",
   "metadata": {},
   "outputs": [],
   "source": [
    "#Select only categorical columns from training data\n",
    "cat_cols = X_train.select_dtypes(include=['object']).columns\n",
    "X_train_cat = X_train[cat_cols].copy()"
   ]
  },
  {
   "cell_type": "code",
   "execution_count": 20,
   "id": "7216715e-1e6e-4a91-80f0-e3873884ad06",
   "metadata": {},
   "outputs": [],
   "source": [
    "#Fill missing values\n",
    "X_train_cat = X_train_cat.fillna('NA')"
   ]
  },
  {
   "cell_type": "code",
   "execution_count": 21,
   "id": "e3571791-c422-4473-91f3-ad393421afb5",
   "metadata": {},
   "outputs": [],
   "source": [
    "#Encode categorical variables using ordinal encoding\n",
    "encoder = OrdinalEncoder()\n",
    "X_train_encoded = encoder.fit_transform(X_train_cat)"
   ]
  },
  {
   "cell_type": "code",
   "execution_count": 22,
   "id": "15a53d30-4f4f-4ab2-87f5-0b5d21795635",
   "metadata": {
    "scrolled": true
   },
   "outputs": [],
   "source": [
    "mi_scores = mutual_info_classif(X_train_encoded, y_train, discrete_features=True, random_state=42)"
   ]
  },
  {
   "cell_type": "code",
   "execution_count": 23,
   "id": "1873b0d1-639b-4a81-9463-0be929464390",
   "metadata": {},
   "outputs": [
    {
     "name": "stdout",
     "output_type": "stream",
     "text": [
      "Mutual Information Scores (rounded):\n",
      "lead_source          0.03\n",
      "employment_status    0.02\n",
      "industry             0.02\n",
      "location             0.00\n",
      "dtype: float64\n",
      "\n",
      "The categorical variable with the highest mutual information score is: 'lead_source' (0.03)\n"
     ]
    }
   ],
   "source": [
    "#Compute mutual information scores\n",
    "mi_scores = mutual_info_classif(X_train_encoded, y_train, discrete_features=True, random_state=42)\n",
    "\n",
    "# Map scores to column names and round\n",
    "mi_series = pd.Series(mi_scores, index=cat_cols).sort_values(ascending=False).round(2)\n",
    "\n",
    "# Output the results\n",
    "print(\"Mutual Information Scores (rounded):\")\n",
    "print(mi_series)\n",
    "\n",
    "# Find feature with highest MI score\n",
    "top_feature = mi_series.idxmax()\n",
    "top_score = mi_series.max()\n",
    "\n",
    "print(f\"\\nThe categorical variable with the highest mutual information score is: '{top_feature}' ({top_score})\")"
   ]
  },
  {
   "cell_type": "code",
   "execution_count": 24,
   "id": "142b82d0-8828-4faf-bfb6-9557dbf353a4",
   "metadata": {},
   "outputs": [
    {
     "name": "stdout",
     "output_type": "stream",
     "text": [
      "Validation Accuracy: 0.74\n"
     ]
    }
   ],
   "source": [
    "X_train_encoded = pd.get_dummies(X_train)\n",
    "X_val_encoded = pd.get_dummies(X_val)\n",
    "\n",
    "# Align validation set to training columns (add missing cols)\n",
    "X_val_encoded = X_val_encoded.reindex(columns=X_train_encoded.columns, fill_value=0)\n",
    "\n",
    "# Train logistic regression\n",
    "model = LogisticRegression(solver='liblinear', C=1.0, max_iter=1000, random_state=42)\n",
    "model.fit(X_train_encoded, y_train)\n",
    "\n",
    "# Predict and calculate accuracy\n",
    "y_pred = model.predict(X_val_encoded)\n",
    "accuracy = accuracy_score(y_val, y_pred)\n",
    "\n",
    "# 7. Round and print result\n",
    "accuracy_rounded = round(accuracy, 2)\n",
    "print(\"Validation Accuracy:\", accuracy_rounded)\n"
   ]
  },
  {
   "cell_type": "markdown",
   "id": "b270977a-85a6-4cdd-9c1c-2da0d63feb82",
   "metadata": {},
   "source": [
    "#### Question 5 "
   ]
  },
  {
   "cell_type": "code",
   "execution_count": 27,
   "id": "8c629300-d5f2-4aef-a296-5cc57741a24f",
   "metadata": {},
   "outputs": [
    {
     "name": "stdout",
     "output_type": "stream",
     "text": [
      "Removed 'number' -> Accuracy: 0.6781, Difference: 0.0651\n",
      "Removed 'annual' -> Accuracy: 0.8562, Difference: -0.1130\n",
      "Removed 'interaction' -> Accuracy: 0.6747, Difference: 0.0685\n",
      "Removed 'lead' -> Accuracy: 0.7329, Difference: 0.0103\n",
      "Removed 'industry' -> Accuracy: 0.7432, Difference: 0.0000\n",
      "Removed 'employment' -> Accuracy: 0.7466, Difference: -0.0034\n",
      "Removed 'location' -> Accuracy: 0.7432, Difference: 0.0000\n",
      "\n",
      "Feature with smallest accuracy difference: 'annual' (-0.1130)\n"
     ]
    }
   ],
   "source": [
    "\n",
    "\n",
    "# Group one-hot columns back to original feature names\n",
    "feature_groups = {}\n",
    "for col in X_train_encoded.columns:\n",
    "    base = col.split('_')[0]\n",
    "    feature_groups.setdefault(base, []).append(col)\n",
    "\n",
    "# Evaluate accuracy without each feature\n",
    "differences = {}\n",
    "\n",
    "for feature, cols in feature_groups.items():\n",
    "    # Remove feature columns\n",
    "    X_train_mod = X_train_encoded.drop(columns=cols)\n",
    "    X_val_mod = X_val_encoded.drop(columns=cols)\n",
    "    \n",
    "    # Train model\n",
    "    model = LogisticRegression(solver='liblinear', C=1.0, max_iter=1000, random_state=42)\n",
    "    model.fit(X_train_mod, y_train)\n",
    "    \n",
    "    # Predict and evaluate\n",
    "    y_pred = model.predict(X_val_mod)\n",
    "    acc = accuracy_score(y_val, y_pred)\n",
    "    \n",
    "    # Record accuracy difference\n",
    "    diff = accuracy - acc\n",
    "    differences[feature] = diff\n",
    "    print(f\"Removed '{feature}' -> Accuracy: {acc:.4f}, Difference: {diff:.4f}\")\n",
    "\n",
    "# Find feature with smallest difference\n",
    "least_impact_feature = min(differences, key=differences.get)\n",
    "print(f\"\\nFeature with smallest accuracy difference: '{least_impact_feature}' ({differences[least_impact_feature]:.4f})\")\n"
   ]
  },
  {
   "cell_type": "markdown",
   "id": "af1183ac-74bd-4170-a9e5-9e9ff9bb627a",
   "metadata": {},
   "source": [
    "#### Question 6"
   ]
  },
  {
   "cell_type": "code",
   "execution_count": 28,
   "id": "9c0b9285-8ffe-49a4-9ca8-5ab50014ba3e",
   "metadata": {},
   "outputs": [
    {
     "name": "stdout",
     "output_type": "stream",
     "text": [
      "C=0.01: Validation Accuracy = 0.743\n",
      "C=0.1: Validation Accuracy = 0.743\n",
      "C=1: Validation Accuracy = 0.743\n",
      "C=10: Validation Accuracy = 0.743\n",
      "C=100: Validation Accuracy = 0.743\n",
      "\n",
      "Best C value: 0.01 with Validation Accuracy: 0.743\n"
     ]
    }
   ],
   "source": [
    "# List of C values to try\n",
    "C_values = [0.01, 0.1, 1, 10, 100]\n",
    "\n",
    "results = {}\n",
    "\n",
    "for C in C_values:\n",
    "    model = LogisticRegression(solver='liblinear', C=C, max_iter=1000, random_state=42)\n",
    "    model.fit(X_train_encoded, y_train)\n",
    "    y_pred = model.predict(X_val_encoded)\n",
    "    acc = accuracy_score(y_val, y_pred)\n",
    "    results[C] = round(acc, 3)\n",
    "    print(f\"C={C}: Validation Accuracy = {results[C]}\")\n",
    "\n",
    "# Find best C\n",
    "best_C = max(results, key=results.get)\n",
    "best_acc = results[best_C]\n",
    "\n",
    "print(f\"\\nBest C value: {best_C} with Validation Accuracy: {best_acc}\")"
   ]
  }
 ],
 "metadata": {
  "kernelspec": {
   "display_name": "Python 3 (ipykernel)",
   "language": "python",
   "name": "python3"
  },
  "language_info": {
   "codemirror_mode": {
    "name": "ipython",
    "version": 3
   },
   "file_extension": ".py",
   "mimetype": "text/x-python",
   "name": "python",
   "nbconvert_exporter": "python",
   "pygments_lexer": "ipython3",
   "version": "3.12.1"
  }
 },
 "nbformat": 4,
 "nbformat_minor": 5
}
